{
 "cells": [
  {
   "cell_type": "markdown",
   "metadata": {
    "scrolled": false
   },
   "source": [
    "\n",
    "## Dory Report\n"
   ]
  },
  {
   "cell_type": "code",
   "execution_count": 6,
   "metadata": {
    "scrolled": true
   },
   "outputs": [],
   "source": [
    "import os\n",
    "import copy\n",
    "import json\n",
    "import numpy as np\n",
    "import pandas as pd\n",
    "import matplotlib\n",
    "import ipywidgets as widgets\n",
    "import matplotlib.pyplot as plt\n",
    "from datetime import datetime\n",
    "from __future__ import print_function\n",
    "from ipywidgets import interact, interactive, fixed, interact_manual\n",
    "from ipywidgets import Layout, Button, Box, FloatText, Textarea, Dropdown, Label, IntSlider, Select\n",
    "from IPython.display import display, display_markdown, HTML"
   ]
  },
  {
   "cell_type": "code",
   "execution_count": 7,
   "metadata": {
    "collapsed": true,
    "scrolled": true
   },
   "outputs": [],
   "source": [
    "# Define init variable\n",
    "INPUT_DATA_FN = \"output_result.json\"\n"
   ]
  },
  {
   "cell_type": "code",
   "execution_count": 8,
   "metadata": {
    "scrolled": true
   },
   "outputs": [],
   "source": [
    "# Result data handling\n",
    "\n",
    "## load result data file\n",
    "input_data_fp = os.path.join(os.getcwd(), INPUT_DATA_FN)\n",
    "with open(input_data_fp) as read_fh:\n",
    "    full_result_obj = json.load(read_fh)\n",
    "\n",
    "# get preference name list\n",
    "preference_name_list = full_result_obj.keys()\n",
    "    "
   ]
  },
  {
   "cell_type": "code",
   "execution_count": 9,
   "metadata": {
    "scrolled": true
   },
   "outputs": [],
   "source": [
    "items_layout = Layout(width='auto')\n",
    "items_style = {'description_width': 'initial'}\n",
    "c_slider = Dropdown(layout=items_layout, style=items_style, options=[\"default\"])\n",
    "d_select = Dropdown(options=preference_name_list, layout=items_layout, style=items_style)\n",
    "\n",
    "\n",
    "def update_c_range(*args):\n",
    "    c_slider.options = full_result_obj[d_select.value].keys()\n",
    "\n",
    "def view3(preference_name='',preference_value=''):\n",
    "    DATA_LIST = 'time_list'\n",
    "    DATA_NAME = 'run_time'\n",
    "    DELETE_KEY = \"video-recording-fps\"\n",
    "    HIDE_MISSING_CASE = False\n",
    "    layout_row = 1\n",
    "    layout_column = 1\n",
    "    fig_size_w = 10\n",
    "    fig_size_h = 5\n",
    "    matplotlib.rcParams.update({'figure.max_open_warning': 0})\n",
    "\n",
    "    data_dict = copy.deepcopy(full_result_obj[preference_name])\n",
    "    for p_value in data_dict:\n",
    "        if DELETE_KEY in data_dict[p_value]:\n",
    "            data_dict[p_value].pop(DELETE_KEY)\n",
    "    #\n",
    "    # generate merged data\n",
    "    #\n",
    "    casename_list = list(set([casename for lable, data in data_dict.items() for casename in data.keys()]))\n",
    "\n",
    "    case_result = []\n",
    "    for casename in casename_list:\n",
    "        result = {\n",
    "            \"casename\": casename,\n",
    "            \"result\": {}\n",
    "        }\n",
    "        for lable, data in data_dict.items():\n",
    "            result[\"result\"][lable] = {}\n",
    "\n",
    "        for lable, data in data_dict.items():\n",
    "            if data.get(casename):\n",
    "                result[\"result\"][lable][DATA_LIST] = data.get(casename).get(DATA_LIST)\n",
    "            else:\n",
    "                result[\"result\"][lable][DATA_LIST] = []\n",
    "        case_result.append(result)\n",
    "\n",
    "    #\n",
    "    # show original data of each cases\n",
    "    #\n",
    "    display_markdown('## Merged Result', raw=True)\n",
    "    display_markdown('Report Generate Time: {}'.format(datetime.now().strftime('%Y-%m-%d %H:%M:%S')), raw=True)\n",
    "    display_markdown('{} Cases'.format(len(case_result)), raw=True)\n",
    "    nightly_better_list = []\n",
    "    for case in sorted(case_result):\n",
    "        casename = case.get('casename')\n",
    "        result = case.get('result')\n",
    "        d = pd.DataFrame(result)\n",
    "\n",
    "        # drop empty 'DATA_LIST'\n",
    "        for c in d:\n",
    "            if (d[c][DATA_LIST] == []) :\n",
    "                d.drop(c, axis=1, inplace=True)\n",
    "\n",
    "        # Retrive the value of 'DATA_NAME' from each run\n",
    "        value = pd.DataFrame([pd.DataFrame(d[c][DATA_LIST])[DATA_NAME] for c in d]).T\n",
    "        value.columns = d.columns\n",
    "\n",
    "        # Plot input latency boxplot\n",
    "        value_min = min(value.min())\n",
    "        value_max = max(value.max())\n",
    "        value_median = pd.DataFrame([pd.DataFrame(d[c][DATA_LIST])[DATA_NAME].median() for c in d]).T\n",
    "        value_median.columns = d.columns\n",
    "\n",
    "        # When HIDE_MISSING_CASE is enabled, skip the case if the case data less then input data amount.\n",
    "        if HIDE_MISSING_CASE and len(INPUT_SOURCE) > len(value.T):\n",
    "            # display summary\n",
    "            display_markdown('### {}\\nskip draw plot box'.format(casename), raw=True)\n",
    "            display(HTML(value.describe().to_html()))\n",
    "        else:\n",
    "\n",
    "            fig, ax = plt.subplots()\n",
    "            ax.plot(list(range(1,len(list(value_median.median()))+1)), list(value_median.median()), \"r:\")\n",
    "\n",
    "            value.plot.box(layout=(layout_row, layout_column),\n",
    "                           sharey=True, sharex=True, figsize=(fig_size_w, fig_size_h),\n",
    "                           ylim=(0, value_max*1.1), ax=ax)\n",
    "            plt.title(casename)\n",
    "            if \"Nightly\" in value_median and \"ESR52\" in value_median:\n",
    "                if value_median['Nightly'][0] < value_median['ESR52'][0]:\n",
    "                    nightly_better_list.append(casename)\n",
    "            # display summary\n",
    "            display_markdown('### {}'.format(casename), raw=True)\n",
    "            display(HTML(value.describe().to_html()))\n",
    "    # show plot\n",
    "    plt.show()\n",
    "    \n"
   ]
  },
  {
   "cell_type": "code",
   "execution_count": 10,
   "metadata": {
    "scrolled": false
   },
   "outputs": [
    {
     "data": {
      "application/vnd.jupyter.widget-view+json": {
       "model_id": "fcba90c0103745b5a50693a5220bb28c",
       "version_major": 2,
       "version_minor": 0
      },
      "text/html": [
       "<p>Failed to display Jupyter Widget of type <code>interactive</code>.</p>\n",
       "<p>\n",
       "  If you're reading this message in Jupyter Notebook or JupyterLab, it may mean\n",
       "  that the widgets JavaScript is still loading. If this message persists, it\n",
       "  likely means that the widgets JavaScript library is either not installed or\n",
       "  not enabled. See the <a href=\"https://ipywidgets.readthedocs.io/en/stable/user_install.html\">Jupyter\n",
       "  Widgets Documentation</a> for setup instructions.\n",
       "</p>\n",
       "<p>\n",
       "  If you're reading this message in another notebook frontend (for example, a static\n",
       "  rendering on GitHub or <a href=\"https://nbviewer.jupyter.org/\">NBViewer</a>),\n",
       "  it may mean that your frontend doesn't currently support widgets.\n",
       "</p>\n"
      ],
      "text/plain": [
       "interactive(children=(Dropdown(description=u'preference_name', layout=Layout(width=u'auto'), options=(u'layers.tile-height', u'javascript.options.baselinejit.threshold', u'layers.tile-width', u'javascript.options.ion.threshold'), style=DescriptionStyle(description_width=u'initial'), value=u'layers.tile-height'), Dropdown(description=u'preference_value', layout=Layout(width=u'auto'), options=('default',), style=DescriptionStyle(description_width=u'initial'), value='default'), Output()), _dom_classes=('widget-interact',))"
      ]
     },
     "metadata": {},
     "output_type": "display_data"
    }
   ],
   "source": [
    "d_select.observe(update_c_range, 'value')\n",
    "interactive_obj = interactive(view3, preference_value=c_slider,preference_name=d_select)\n",
    "interactive_obj"
   ]
  },
  {
   "cell_type": "code",
   "execution_count": null,
   "metadata": {
    "collapsed": true,
    "scrolled": true
   },
   "outputs": [],
   "source": []
  }
 ],
 "metadata": {
  "kernelspec": {
   "display_name": "Python 2",
   "language": "python",
   "name": "python2"
  },
  "language_info": {
   "codemirror_mode": {
    "name": "ipython",
    "version": 2
   },
   "file_extension": ".py",
   "mimetype": "text/x-python",
   "name": "python",
   "nbconvert_exporter": "python",
   "pygments_lexer": "ipython2",
   "version": "2.7.10"
  }
 },
 "nbformat": 4,
 "nbformat_minor": 2
}
